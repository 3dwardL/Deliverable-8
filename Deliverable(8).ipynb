{
  "nbformat": 4,
  "nbformat_minor": 0,
  "metadata": {
    "colab": {
      "provenance": []
    },
    "kernelspec": {
      "name": "python3",
      "display_name": "Python 3"
    },
    "language_info": {
      "name": "python"
    }
  },
  "cells": [
    {
      "cell_type": "code",
      "execution_count": 13,
      "metadata": {
        "id": "tMvV2I51nKb8"
      },
      "outputs": [],
      "source": [
        "import random"
      ]
    },
    {
      "cell_type": "code",
      "source": [
        "def populate_list(length):\n",
        "    my_list = []\n",
        "    for i in range(length):\n",
        "        my_list.append(random.randint(10, 50))\n",
        "    return my_list"
      ],
      "metadata": {
        "id": "bK8q8tbKomQX"
      },
      "execution_count": 18,
      "outputs": []
    },
    {
      "cell_type": "code",
      "source": [
        "def sum_list(my_list):\n",
        "    return sum(my_list)"
      ],
      "metadata": {
        "id": "HEaTZXQ4oq6b"
      },
      "execution_count": 15,
      "outputs": []
    },
    {
      "cell_type": "code",
      "source": [
        "user_input = int(input(\"Enter a number between 5 and 15: \"))"
      ],
      "metadata": {
        "colab": {
          "base_uri": "https://localhost:8080/"
        },
        "id": "R6838qYeoutm",
        "outputId": "aff0c78a-a513-41e6-e0d1-cd665289d7af"
      },
      "execution_count": 16,
      "outputs": [
        {
          "name": "stdout",
          "output_type": "stream",
          "text": [
            "Enter a number between 5 and 15: 5\n"
          ]
        }
      ]
    },
    {
      "cell_type": "code",
      "source": [
        "if user_input >= 5 and user_input <= 15:    \n",
        "    my_list = populate_list(user_input)   \n",
        "    print(\"List elements:\", my_list)  \n",
        "    total_sum = sum_list(my_list)   \n",
        "    print(\"Total sum:\", total_sum)\n",
        "else:\n",
        "    print(\"Invalid input. Please enter a number between 5 and 15.\")"
      ],
      "metadata": {
        "colab": {
          "base_uri": "https://localhost:8080/"
        },
        "id": "JUjIpkHooxZu",
        "outputId": "4cd85683-dfd8-413a-cc1e-d09c07702e95"
      },
      "execution_count": 17,
      "outputs": [
        {
          "output_type": "stream",
          "name": "stdout",
          "text": [
            "List elements: [12, 22, 47, 47, 31]\n",
            "Total sum: 159\n"
          ]
        }
      ]
    }
  ]
}